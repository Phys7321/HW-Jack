{
 "cells": [
  {
   "cell_type": "code",
   "execution_count": 8,
   "metadata": {},
   "outputs": [],
   "source": [
    "import numpy as np\n",
    "from matplotlib import pyplot"
   ]
  },
  {
   "cell_type": "code",
   "execution_count": null,
   "metadata": {},
   "outputs": [],
   "source": [
    "class particle(object):\n",
    "    \n",
    "    def __init__(self, mass=1., y=0., v=0.):\n",
    "        self.mass = mass\n",
    "        self.y = y\n",
    "        self.v = v\n",
    "        \n",
    "    def euler(self, f, dt):\n",
    "        self.y = self.y + self.v*dt\n",
    "        self.v = self.v + f/self.mass*dt\n",
    "        \n",
    "    def euler_cromer(self, f, dt):\n",
    "        self.v = self.v + f/self.mass*dt\n",
    "        self.y = self.y + self.v*dt"
   ]
  },
  {
   "cell_type": "code",
   "execution_count": 17,
   "metadata": {},
   "outputs": [
    {
     "name": "stdout",
     "output_type": "stream",
     "text": [
      "-77.41999071370955\n"
     ]
    },
    {
     "data": {
      "image/png": "[encoded data removed]",
      "text/plain": [
       "<Figure size 432x288 with 1 Axes>"
      ]
     },
     "metadata": {},
     "output_type": "display_data"
    }
   ],
   "source": [
    "g = 9.8            \n",
    "mass = 0.01     \n",
    "y0 = 300.          \n",
    "v0 = 0.         \n",
    "vt = 30.           \n",
    "R = 637100           \n",
    "dt = 0.1           \n",
    "p = particle(mass, y0, v0)\n",
    "\n",
    "y = [y0] \n",
    "v = [v0] \n",
    "t = [0.]\n",
    "\n",
    "while p.y > 0.:\n",
    "    \n",
    "    gforce = mass*g / (1+(p.y/R)**2) #Gravitational force depends on y \n",
    "    fy = -gforce\n",
    "    p.euler(fy, dt)\n",
    "    y.append(p.y)\n",
    "    v.append(p.v)\n",
    "    t.append(t[-1]+dt)\n",
    "    \n",
    "t_data = np.array(t) # we convert the list into a numpy array for plotting\n",
    "y_data = np.array(y)\n",
    "v_data = np.array(v)\n",
    "\n",
    "#for i in range(0,t_data.size):\n",
    "#    print (i,t_data[i], y_data[i], v_data[i])\n",
    "\n",
    "pyplot.plot(t_data, v_data, color=\"#DC143C\", ls='-', lw=3)\n",
    "pyplot.xlabel('time(s)')\n",
    "pyplot.ylabel('velocity(m/s)');\n",
    "\n",
    "v_f = v_data[len(v_data)-1] \n",
    "\n",
    "print(v_f)"
   ]
  },
  {
   "cell_type": "code",
   "execution_count": 34,
   "metadata": {},
   "outputs": [
    {
     "name": "stdout",
     "output_type": "stream",
     "text": [
      "126767.67676767676\n",
      "0.01000659918612706\n",
      "-1561.1977201640493\n",
      "-1576.8200000000263\n"
     ]
    }
   ],
   "source": [
    "g = 9.8            # g acceleration\n",
    "mass = 0.01        # mass of the particle\n",
    "R = 6371000\n",
    "v0 = 0.            # initial velocity\n",
    "yl=100000\n",
    "yh = 150000\n",
    "y0 = np.linspace(yl,yh,100)\n",
    "dt = 0.05           # time step\n",
    "gforce = lambda y: g*mass/(1+y/R)**2    # weight as a function of height\n",
    "gforce2 = lambda y: g*mass\n",
    "\n",
    "vf = []\n",
    "vf2 = []\n",
    "\n",
    "for k in range(0,100):\n",
    "    p = particle(mass, y0[k], v0)\n",
    "    p2 = particle(mass,y0[k],v0)\n",
    "    y = [y0[k]]\n",
    "    y2 = [y0[k]] # since we do not know the size of the arrays, we define first a python list\n",
    "    v = [v0] # the append method is more efficient for lists than arrays\n",
    "    v2 = [v0]\n",
    "    t = [0.]\n",
    "    t2 = [0.]\n",
    "\n",
    "    while p.y > 0.:\n",
    "        fy = -gforce(p.y)#-k2*p.v*abs(p.v)\n",
    "        p.euler(fy, dt)\n",
    "        y.append(p.y)\n",
    "        v.append(p.v)\n",
    "        t.append(t[-1]+dt)\n",
    "    while p2.y > 0.:\n",
    "        fy2 = -gforce2(p2.y)\n",
    "        p2.euler(fy2, dt)\n",
    "        y2.append(p2.y)\n",
    "        v2.append(p2.v)\n",
    "        t2.append(t2[-1]+dt)\n",
    "    \n",
    "    vf=v[-1]\n",
    "    vf2=v2[-1]\n",
    "    diff = abs((vf2-vf)/vf)\n",
    "    \n",
    "    if (diff>=0.01):\n",
    "        break\n",
    "\n",
    "print(y0[k])\n",
    "print(diff)\n",
    "print(vf)\n",
    "print(vf2)"
   ]
  }
 ],
 "metadata": {
  "kernelspec": {
   "display_name": "Python 3",
   "language": "python",
   "name": "python3"
  },
  "language_info": {
   "codemirror_mode": {
    "name": "ipython",
    "version": 3
   },
   "file_extension": ".py",
   "mimetype": "text/x-python",
   "name": "python",
   "nbconvert_exporter": "python",
   "pygments_lexer": "ipython3",
   "version": "3.6.5"
  }
 },
 "nbformat": 4,
 "nbformat_minor": 2
}
