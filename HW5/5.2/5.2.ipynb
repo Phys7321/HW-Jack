{
 "cells": [
  {
   "cell_type": "code",
   "execution_count": 1,
   "metadata": {},
   "outputs": [],
   "source": [
    "%matplotlib inline\n",
    "import numpy as np\n",
    "from matplotlib import pyplot"
   ]
  },
  {
   "cell_type": "code",
   "execution_count": 6,
   "metadata": {},
   "outputs": [
    {
     "name": "stdout",
     "output_type": "stream",
     "text": [
      "0.3338192289783218\n"
     ]
    }
   ],
   "source": [
    "#Simple MC\n",
    "N=1000000\n",
    "x=np.random.random(N)\n",
    "I=np.sum(x**2)\n",
    "print (I/N)"
   ]
  },
  {
   "cell_type": "code",
   "execution_count": 11,
   "metadata": {},
   "outputs": [
    {
     "name": "stdout",
     "output_type": "stream",
     "text": [
      "0.3333384405329985\n"
     ]
    }
   ],
   "source": [
    "#Important sampling\n",
    "N=1000000\n",
    "x=np.sqrt(np.random.random(N)) #inverse CDF\n",
    "I=np.sum(0.5*x)\n",
    "print (I/N)"
   ]
  }
 ],
 "metadata": {
  "kernelspec": {
   "display_name": "Python 3",
   "language": "python",
   "name": "python3"
  },
  "language_info": {
   "codemirror_mode": {
    "name": "ipython",
    "version": 3
   },
   "file_extension": ".py",
   "mimetype": "text/x-python",
   "name": "python",
   "nbconvert_exporter": "python",
   "pygments_lexer": "ipython3",
   "version": "3.6.5"
  }
 },
 "nbformat": 4,
 "nbformat_minor": 2
}
