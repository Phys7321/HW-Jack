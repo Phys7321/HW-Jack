{
 "cells": [
  {
   "cell_type": "code",
   "execution_count": 1,
   "metadata": {},
   "outputs": [],
   "source": [
    "def forwardiff(f,a,b,N):\n",
    "    h = (b-a)/N\n",
    "    g=[]\n",
    "    for k in range(1,N):\n",
    "        slop = (f(a+k*h)-f(a+(k-1)*h))/h\n",
    "        g.append(slop)\n",
    "    return g\n",
    "    \n",
    "def backwardiff(f,a,b,N):\n",
    "    h = (b-a)/N\n",
    "    g=[]\n",
    "    for k in range(0,N-1):\n",
    "        slop = (f(a+(k+1)*h)-f(a+k*h))/h\n",
    "        g.append(slop)\n",
    "    return g\n",
    "\n",
    "def centraldiff(f,a,b,N):\n",
    "    h = (b-a)/N\n",
    "    g=[]\n",
    "    for k in range(0,N):\n",
    "        slop = (f(a+(k+1/2)*h)-f(a+(k-1/2)*h))/h\n",
    "        g.append(slop)\n",
    "    return g\n",
    "\n",
    "def hodiff(f,a,b,N):\n",
    "    h = (b-a)/N\n",
    "    g=[]\n",
    "    for k in range(0,N):\n",
    "        slop = (-2/3*f(a+(k+1)*h)+2/3*f(a+(k-1)*h)-1/12*f(a+(k+2)*h)+1/12*f(a+(k-2)*h))/h\n",
    "        g.append(slop)\n",
    "    return g\n",
    "\n",
    "def central2diff(f,a,b,N):\n",
    "    h = (b-a)/N\n",
    "    g=[]\n",
    "    for k in range(0,N):\n",
    "        slop = (f(a+k*h)- 2*f(a) +f(a+k*h))/h**2\n",
    "        g.append(slop)\n",
    "    return g"
   ]
  },
  {
   "cell_type": "code",
   "execution_count": null,
   "metadata": {},
   "outputs": [],
   "source": []
  }
 ],
 "metadata": {
  "kernelspec": {
   "display_name": "Python 3",
   "language": "python",
   "name": "python3"
  },
  "language_info": {
   "codemirror_mode": {
    "name": "ipython",
    "version": 3
   },
   "file_extension": ".py",
   "mimetype": "text/x-python",
   "name": "python",
   "nbconvert_exporter": "python",
   "pygments_lexer": "ipython3",
   "version": "3.6.5"
  }
 },
 "nbformat": 4,
 "nbformat_minor": 2
}
